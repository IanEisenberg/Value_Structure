{
 "cells": [
  {
   "cell_type": "code",
   "execution_count": 1,
   "metadata": {
    "collapsed": true
   },
   "outputs": [],
   "source": [
    "import matplotlib.pyplot as plt\n",
    "import numpy as np\n",
    "import pandas as pd\n",
    "import seaborn as sns\n",
    "\n",
    "from models import BasicRLModel, SR_RLModel\n",
    "from utils.data_preparation_utils import process_data\n",
    "from utils.utils import create_value_graph, gen_nbackstructure_trials, gen_structured_RL_trials\n",
    "\n",
    "%matplotlib inline"
   ]
  },
  {
   "cell_type": "markdown",
   "metadata": {},
   "source": [
    "Helper Functions"
   ]
  },
  {
   "cell_type": "code",
   "execution_count": 2,
   "metadata": {
    "collapsed": true
   },
   "outputs": [],
   "source": [
    "def rep_simulate(model, reps=50, data=None, query_str=None):\n",
    "    acc = []\n",
    "    for _ in range(reps):\n",
    "        out=model.simulate(data=data)\n",
    "        if query_str:\n",
    "            out = out.query(query_str)\n",
    "        acc.append(out.correct.mean())\n",
    "    return np.mean(acc)\n",
    "\n",
    "def eval_models(models, data):\n",
    "    for name, model in models:\n",
    "        blank_acc = rep_simulate(model, data=data, query_str=\"display_reward==0 and stim_set != (1,6,11)\")\n",
    "        acc = rep_simulate(model, data=data)\n",
    "        print('*')*79\n",
    "        print(name)\n",
    "        print({k:round(v, 3) for k,v in model.get_params().items()})\n",
    "        print('Accuracy: %s, Blank Acc: %s' % (acc, blank_acc))"
   ]
  },
  {
   "cell_type": "markdown",
   "metadata": {},
   "source": [
    "# Data\n",
    "\n",
    "## From a subject"
   ]
  },
  {
   "cell_type": "code",
   "execution_count": 3,
   "metadata": {
    "collapsed": false
   },
   "outputs": [],
   "source": [
    "subj_data = process_data('651')\n",
    "subj_RL = subj_data['RL']\n",
    "subj_structure = subj_data['structure']\n",
    "subj_meta = subj_data['meta']\n",
    "subj_descriptive_stats = subj_data['descriptive_stats']"
   ]
  },
  {
   "cell_type": "markdown",
   "metadata": {},
   "source": [
    "## Simulated"
   ]
  },
  {
   "cell_type": "code",
   "execution_count": 4,
   "metadata": {
    "collapsed": false
   },
   "outputs": [],
   "source": [
    "# generate an RL task\n",
    "graph = {0: [1,2,3,14],\n",
    "         1: [0,2,3,4],\n",
    "         2: [0,1,3,4],\n",
    "         3: [0,1,2,4],\n",
    "         4: [1,2,3,5],\n",
    "         5: [4,6,7,8],\n",
    "         6: [5,7,8,9],\n",
    "         7: [5,6,8,9],\n",
    "         8: [5,6,7,9],\n",
    "         9: [6,7,8,10],\n",
    "         10: [9,11,12,13],\n",
    "         11: [10,12,13,14],\n",
    "         12: [10,11,13,14],\n",
    "         13: [10,11,12,14],\n",
    "         14: [11,12,13,0]}\n",
    "stims = ['images/%s.png' % str(i+1) for i in graph.keys()]\n",
    "np.random.seed(2222)\n",
    "seeds = {1:1, 7:0}\n",
    "values = create_value_graph(graph, seeds, weight=.97, steps = 3000,\n",
    "                            scaling=.7, offset=.15)\n",
    "\n",
    "np.random.seed()\n",
    "\n",
    "RLdata = pd.DataFrame(gen_structured_RL_trials(stims, values, repeats=20, reward_blackout=10))\n",
    "structuredata = pd.DataFrame(gen_nbackstructure_trials(graph, stims, 1400))\n",
    "\n",
    "# shuffle values\n",
    "vals = values.values()\n",
    "np.random.shuffle(vals)\n",
    "for key in values.keys():\n",
    "    values[key] = vals.pop()\n",
    "shuffled_RLdata = pd.DataFrame(gen_structured_RL_trials(stims, values, repeats=20, reward_blackout=10))\n",
    "\n",
    "#random values\n",
    "for key in values.keys():\n",
    "    values[key] = np.random.randn()\n",
    "random_RLdata = pd.DataFrame(gen_structured_RL_trials(stims, values, repeats=20, reward_blackout=10))"
   ]
  },
  {
   "cell_type": "markdown",
   "metadata": {},
   "source": [
    "# Fit Models"
   ]
  },
  {
   "cell_type": "markdown",
   "metadata": {},
   "source": [
    "First fit models on the actual data, and evaluate performance on the data, as well as the random and shuffled data"
   ]
  },
  {
   "cell_type": "code",
   "execution_count": 5,
   "metadata": {
    "collapsed": false,
    "scrolled": false
   },
   "outputs": [],
   "source": [
    "subj_m = BasicRLModel(subj_RL)\n",
    "subj_m.optimize()\n",
    "m = BasicRLModel(RLdata)\n",
    "m.optimize_acc()\n",
    "SRm = SR_RLModel(RLdata, structuredata)\n",
    "SRm.optimize_acc()"
   ]
  },
  {
   "cell_type": "code",
   "execution_count": 7,
   "metadata": {
    "collapsed": false
   },
   "outputs": [
    {
     "name": "stdout",
     "output_type": "stream",
     "text": [
      "Subject Accuracy: 0.90234375\n",
      "\n",
      "*******************************************************************************\n",
      "\n",
      "Model Performance\n",
      "*******************************************************************************\n",
      "optimized SR\n",
      "{'beta': 38.042, 'lr': 0.071, 'eps': 0.087, 'gamma': 0.956, 'SR_lr': 0.024}\n",
      "Accuracy: 0.926125, Blank Acc: 0.854666666667\n",
      "*******************************************************************************\n",
      "subject\n",
      "{'beta': 10.35, 'lr': 0.136, 'eps': 0.0}\n",
      "Accuracy: 0.814083333333, Blank Acc: 0.488666666667\n",
      "*******************************************************************************\n",
      "optimized RL\n",
      "{'beta': 13.643, 'lr': 0.075, 'eps': 0.011}\n",
      "Accuracy: 0.820416666667, Blank Acc: 0.497333333333\n",
      "\n",
      "*******************************************************************************\n",
      "\n",
      "Model Performance on Shuffled values\n",
      "*******************************************************************************\n",
      "optimized SR\n",
      "{'beta': 38.042, 'lr': 0.071, 'eps': 0.087, 'gamma': 0.956, 'SR_lr': 0.024}\n",
      "Accuracy: 0.672291666667, Blank Acc: 0.340666666667\n",
      "*******************************************************************************\n",
      "subject\n",
      "{'beta': 10.35, 'lr': 0.136, 'eps': 0.0}\n",
      "Accuracy: 0.775416666667, Blank Acc: 0.497666666667\n",
      "*******************************************************************************\n",
      "optimized RL\n",
      "{'beta': 13.643, 'lr': 0.075, 'eps': 0.011}\n",
      "Accuracy: 0.772333333333, Blank Acc: 0.498666666667\n",
      "\n",
      "*******************************************************************************\n",
      "\n",
      "Model Performance on Random values\n",
      "*******************************************************************************\n",
      "optimized SR\n",
      "{'beta': 38.042, 'lr': 0.071, 'eps': 0.087, 'gamma': 0.956, 'SR_lr': 0.024}\n",
      "Accuracy: 0.585833333333, Blank Acc: 0.294\n",
      "*******************************************************************************\n",
      "subject\n",
      "{'beta': 10.35, 'lr': 0.136, 'eps': 0.0}\n",
      "Accuracy: 0.675791666667, Blank Acc: 0.512333333333\n",
      "*******************************************************************************\n",
      "optimized RL\n",
      "{'beta': 13.643, 'lr': 0.075, 'eps': 0.011}\n",
      "Accuracy: 0.667666666667, Blank Acc: 0.478\n"
     ]
    }
   ],
   "source": [
    "print('Subject Accuracy: %s' % subj_RL.correct.mean())\n",
    "print('\\n' + '*'*79 + '\\n')\n",
    "print('Model Performance')\n",
    "models = [['optimized SR', SRm],['subject', subj_m], ['optimized RL', m]]\n",
    "eval_models(models, data=RLdata)\n",
    "\n",
    "print('\\n' + '*'*79 + '\\n')\n",
    "print('Model Performance on Shuffled values')\n",
    "eval_models(models, data=shuffled_RLdata)\n",
    "\n",
    "print('\\n' + '*'*79 + '\\n')\n",
    "print('Model Performance on Random values')\n",
    "eval_models(models, data=random_RLdata)"
   ]
  },
  {
   "cell_type": "markdown",
   "metadata": {},
   "source": [
    "Evaluate the SRm Model params after being separately fit on the different data types"
   ]
  },
  {
   "cell_type": "code",
   "execution_count": null,
   "metadata": {
    "collapsed": false
   },
   "outputs": [],
   "source": [
    "datasets = [('original', RLdata), ('shuffled', shuffled_RLdata), ('random', random_RLdata)]\n",
    "for name, data in datasets:\n",
    "    SRm = SR_RLModel(data, structuredata)\n",
    "    SRm.optimize_acc()\n",
    "    print('\\n' + '*'*79 + '\\n')\n",
    "    print('Model Performance on %s data' % name)\n",
    "    eval_models(models, data=data)"
   ]
  },
  {
   "cell_type": "markdown",
   "metadata": {},
   "source": [
    "The actual transition probability matrix can be calculated from the one-step transition probabilities, given a discount rate gamma. Below I do a grid search across gamma and learning rate values and compare the learning transition matrix (using SR_TD) to the asymptotic matrix"
   ]
  },
  {
   "cell_type": "code",
   "execution_count": null,
   "metadata": {
    "collapsed": false
   },
   "outputs": [],
   "source": [
    "from models import SR_from_transition\n",
    "from utils.graph_utils import graph_to_matrix\n",
    "from utils.utils import get_lower\n",
    "\n",
    "gamma_list = np.linspace(0,1,11)\n",
    "LR_list = np.linspace(0,.25,6)\n",
    "\n",
    "param_grid = np.zeros((len(gamma_list), len(LR_list)))\n",
    "\n",
    "for i, gamma in enumerate(gamma_list):\n",
    "    # get asymptotic M\n",
    "    graph = meta['structure']['graph']\n",
    "    onestep = graph_to_matrix(graph)/5.0\n",
    "    TrueM = SR_from_transition(onestep, SRm.gamma)\n",
    "    for j, lr in enumerate(LR_list):\n",
    "        SRm.update_params({'SR_lr': lr, 'gamma': gamma})\n",
    "        M = SRm.SR_TD()\n",
    "        corr = np.corrcoef(get_lower(M),get_lower(TrueM))[0,1]\n",
    "        param_grid[i, j] = corr"
   ]
  },
  {
   "cell_type": "code",
   "execution_count": null,
   "metadata": {
    "collapsed": false
   },
   "outputs": [],
   "source": [
    "sns.heatmap(param_grid, xticklabels=LR_list, yticklabels=gamma_list)"
   ]
  }
 ],
 "metadata": {
  "anaconda-cloud": {},
  "kernelspec": {
   "display_name": "Python [conda env:psychopy]",
   "language": "python",
   "name": "conda-env-psychopy-py"
  },
  "language_info": {
   "codemirror_mode": {
    "name": "ipython",
    "version": 2
   },
   "file_extension": ".py",
   "mimetype": "text/x-python",
   "name": "python",
   "nbconvert_exporter": "python",
   "pygments_lexer": "ipython2",
   "version": "2.7.12"
  }
 },
 "nbformat": 4,
 "nbformat_minor": 1
}
